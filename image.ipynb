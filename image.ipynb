{
 "cells": [
  {
   "cell_type": "markdown",
   "metadata": {},
   "source": [
    "Импортируем все необходимое"
   ]
  },
  {
   "cell_type": "code",
   "execution_count": 11,
   "metadata": {},
   "outputs": [],
   "source": [
    "import pandas as pd\n"
   ]
  },
  {
   "cell_type": "markdown",
   "metadata": {},
   "source": [
    "Создаем DataFrame с двумя колонками. Названия колонок \"abs_path\" и \"name\". Задание 1 и 2."
   ]
  },
  {
   "cell_type": "code",
   "execution_count": 12,
   "metadata": {},
   "outputs": [
    {
     "name": "stdout",
     "output_type": "stream",
     "text": [
      "                                 abs_path name\n",
      "0     D:\\PP-Laba-3\\dataset_1\\cat\\0000.jpg  cat\n",
      "1     D:\\PP-Laba-3\\dataset_1\\cat\\0001.jpg  cat\n",
      "2     D:\\PP-Laba-3\\dataset_1\\cat\\0002.jpg  cat\n",
      "3     D:\\PP-Laba-3\\dataset_1\\cat\\0003.jpg  cat\n",
      "4     D:\\PP-Laba-3\\dataset_1\\cat\\0004.jpg  cat\n",
      "...                                   ...  ...\n",
      "1997  D:\\PP-Laba-3\\dataset_1\\dog\\0996.jpg  dog\n",
      "1998  D:\\PP-Laba-3\\dataset_1\\dog\\0997.jpg  dog\n",
      "1999  D:\\PP-Laba-3\\dataset_1\\dog\\0998.jpg  dog\n",
      "2000  D:\\PP-Laba-3\\dataset_1\\dog\\0999.jpg  dog\n",
      "2001  D:\\PP-Laba-3\\dataset_1\\dog\\1000.jpg  dog\n",
      "\n",
      "[2002 rows x 2 columns]\n"
     ]
    }
   ],
   "source": [
    "df = pd.read_csv('paths.csv', delimiter=',', usecols = (0, 2), names = (\"abs_path\", \"name\"))\n",
    "print(df)"
   ]
  }
 ],
 "metadata": {
  "kernelspec": {
   "display_name": "base",
   "language": "python",
   "name": "python3"
  },
  "language_info": {
   "codemirror_mode": {
    "name": "ipython",
    "version": 3
   },
   "file_extension": ".py",
   "mimetype": "text/x-python",
   "name": "python",
   "nbconvert_exporter": "python",
   "pygments_lexer": "ipython3",
   "version": "3.11.4"
  }
 },
 "nbformat": 4,
 "nbformat_minor": 2
}
