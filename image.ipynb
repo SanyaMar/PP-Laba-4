{
 "cells": [
  {
   "cell_type": "markdown",
   "metadata": {},
   "source": [
    "Импортируем все необходимое"
   ]
  },
  {
   "cell_type": "code",
   "execution_count": 32,
   "metadata": {},
   "outputs": [],
   "source": [
    "import cv2\n",
    "import pandas\n",
    "import pandas as pd\n",
    "\n",
    "from typing import List"
   ]
  },
  {
   "cell_type": "markdown",
   "metadata": {},
   "source": [
    "Создаем DataFrame с двумя колонками. Названия колонок \"abs_path\" и \"name\". Задание 1 и 2."
   ]
  },
  {
   "cell_type": "code",
   "execution_count": 36,
   "metadata": {},
   "outputs": [
    {
     "name": "stdout",
     "output_type": "stream",
     "text": [
      "                                 abs_path name\n",
      "0     D:\\PP-Laba-4\\dataset_1\\cat\\0000.jpg  cat\n",
      "1     D:\\PP-Laba-4\\dataset_1\\cat\\0001.jpg  cat\n",
      "2     D:\\PP-Laba-4\\dataset_1\\cat\\0002.jpg  cat\n",
      "3     D:\\PP-Laba-4\\dataset_1\\cat\\0003.jpg  cat\n",
      "4     D:\\PP-Laba-4\\dataset_1\\cat\\0004.jpg  cat\n",
      "...                                   ...  ...\n",
      "1996  D:\\PP-Laba-4\\dataset_1\\dog\\0996.jpg  dog\n",
      "1997  D:\\PP-Laba-4\\dataset_1\\dog\\0997.jpg  dog\n",
      "1998  D:\\PP-Laba-4\\dataset_1\\dog\\0998.jpg  dog\n",
      "1999  D:\\PP-Laba-4\\dataset_1\\dog\\0999.jpg  dog\n",
      "2000  D:\\PP-Laba-4\\dataset_1\\dog\\1000.jpg  dog\n",
      "\n",
      "[2001 rows x 2 columns]\n"
     ]
    }
   ],
   "source": [
    "df = pd.read_csv('paths_1.csv', delimiter=',', usecols = (0, 2), names = ('abs_path', 'name'))\n",
    "print(df)"
   ]
  },
  {
   "cell_type": "markdown",
   "metadata": {},
   "source": [
    "Добавление столбца с метками \"0\" для класса \"cat\" и \"1\" для класса \"dog\". Задание 3"
   ]
  },
  {
   "cell_type": "code",
   "execution_count": 37,
   "metadata": {},
   "outputs": [
    {
     "name": "stdout",
     "output_type": "stream",
     "text": [
      "                                 abs_path name  mark\n",
      "0     D:\\PP-Laba-4\\dataset_1\\cat\\0000.jpg  cat     0\n",
      "1     D:\\PP-Laba-4\\dataset_1\\cat\\0001.jpg  cat     0\n",
      "2     D:\\PP-Laba-4\\dataset_1\\cat\\0002.jpg  cat     0\n",
      "3     D:\\PP-Laba-4\\dataset_1\\cat\\0003.jpg  cat     0\n",
      "4     D:\\PP-Laba-4\\dataset_1\\cat\\0004.jpg  cat     0\n",
      "...                                   ...  ...   ...\n",
      "1996  D:\\PP-Laba-4\\dataset_1\\dog\\0996.jpg  dog     1\n",
      "1997  D:\\PP-Laba-4\\dataset_1\\dog\\0997.jpg  dog     1\n",
      "1998  D:\\PP-Laba-4\\dataset_1\\dog\\0998.jpg  dog     1\n",
      "1999  D:\\PP-Laba-4\\dataset_1\\dog\\0999.jpg  dog     1\n",
      "2000  D:\\PP-Laba-4\\dataset_1\\dog\\1000.jpg  dog     1\n",
      "\n",
      "[2001 rows x 3 columns]\n"
     ]
    }
   ],
   "source": [
    "df[\"mark\"] = 0\n",
    "df.loc[df[\"name\"] == \"dog\", \"mark\"] = 1\n",
    "print(df)"
   ]
  },
  {
   "cell_type": "markdown",
   "metadata": {},
   "source": [
    "Добавление трех столбцов \"height\", \"width\" и \"depth\". Задание 4."
   ]
  },
  {
   "cell_type": "code",
   "execution_count": 38,
   "metadata": {},
   "outputs": [
    {
     "name": "stdout",
     "output_type": "stream",
     "text": [
      "                                 abs_path name  mark  height\n",
      "0     D:\\PP-Laba-4\\dataset_1\\cat\\0000.jpg  cat     0    1440\n",
      "1     D:\\PP-Laba-4\\dataset_1\\cat\\0001.jpg  cat     0    1200\n",
      "2     D:\\PP-Laba-4\\dataset_1\\cat\\0002.jpg  cat     0    1600\n",
      "3     D:\\PP-Laba-4\\dataset_1\\cat\\0003.jpg  cat     0     634\n",
      "4     D:\\PP-Laba-4\\dataset_1\\cat\\0004.jpg  cat     0    1368\n",
      "...                                   ...  ...   ...     ...\n",
      "1996  D:\\PP-Laba-4\\dataset_1\\dog\\0996.jpg  dog     1    2341\n",
      "1997  D:\\PP-Laba-4\\dataset_1\\dog\\0997.jpg  dog     1     768\n",
      "1998  D:\\PP-Laba-4\\dataset_1\\dog\\0998.jpg  dog     1    1600\n",
      "1999  D:\\PP-Laba-4\\dataset_1\\dog\\0999.jpg  dog     1    1280\n",
      "2000  D:\\PP-Laba-4\\dataset_1\\dog\\1000.jpg  dog     1    1200\n",
      "\n",
      "[2001 rows x 4 columns]\n"
     ]
    }
   ],
   "source": [
    "height_i: List[int] = []\n",
    "\n",
    "for i in range(df[\"abs_path\"].size):\n",
    "    img = cv2.imread(df[\"abs_path\"].iloc[i])\n",
    "    if img is not None:\n",
    "      height_i.append(img.shape[0])\n",
    "    else:\n",
    "      print(df[\"abs_path\"].iloc[i])\n",
    "\n",
    "df[\"height\"] = height_i\n",
    "print(df)"
   ]
  },
  {
   "cell_type": "code",
   "execution_count": 39,
   "metadata": {},
   "outputs": [
    {
     "name": "stdout",
     "output_type": "stream",
     "text": [
      "                                 abs_path name  mark  height  width\n",
      "0     D:\\PP-Laba-4\\dataset_1\\cat\\0000.jpg  cat     0    1440   2160\n",
      "1     D:\\PP-Laba-4\\dataset_1\\cat\\0001.jpg  cat     0    1200   1600\n",
      "2     D:\\PP-Laba-4\\dataset_1\\cat\\0002.jpg  cat     0    1600   2560\n",
      "3     D:\\PP-Laba-4\\dataset_1\\cat\\0003.jpg  cat     0     634    880\n",
      "4     D:\\PP-Laba-4\\dataset_1\\cat\\0004.jpg  cat     0    1368   2048\n",
      "...                                   ...  ...   ...     ...    ...\n",
      "1996  D:\\PP-Laba-4\\dataset_1\\dog\\0996.jpg  dog     1    2341   3000\n",
      "1997  D:\\PP-Laba-4\\dataset_1\\dog\\0997.jpg  dog     1     768   1024\n",
      "1998  D:\\PP-Laba-4\\dataset_1\\dog\\0998.jpg  dog     1    1600   2560\n",
      "1999  D:\\PP-Laba-4\\dataset_1\\dog\\0999.jpg  dog     1    1280   1920\n",
      "2000  D:\\PP-Laba-4\\dataset_1\\dog\\1000.jpg  dog     1    1200   1920\n",
      "\n",
      "[2001 rows x 5 columns]\n"
     ]
    }
   ],
   "source": [
    "width_i: List[int] = []\n",
    "\n",
    "for i in range(df[\"abs_path\"].size):\n",
    "    img = cv2.imread(df[\"abs_path\"].iloc[i])\n",
    "    if img is not None:\n",
    "      width_i.append(img.shape[1])\n",
    "    else:\n",
    "      print(df[\"abs_path\"].iloc[i])\n",
    "\n",
    "df[\"width\"] = width_i\n",
    "print(df)"
   ]
  },
  {
   "cell_type": "code",
   "execution_count": 40,
   "metadata": {},
   "outputs": [
    {
     "name": "stdout",
     "output_type": "stream",
     "text": [
      "                                 abs_path name  mark  height  width  depth\n",
      "0     D:\\PP-Laba-4\\dataset_1\\cat\\0000.jpg  cat     0    1440   2160      3\n",
      "1     D:\\PP-Laba-4\\dataset_1\\cat\\0001.jpg  cat     0    1200   1600      3\n",
      "2     D:\\PP-Laba-4\\dataset_1\\cat\\0002.jpg  cat     0    1600   2560      3\n",
      "3     D:\\PP-Laba-4\\dataset_1\\cat\\0003.jpg  cat     0     634    880      3\n",
      "4     D:\\PP-Laba-4\\dataset_1\\cat\\0004.jpg  cat     0    1368   2048      3\n",
      "...                                   ...  ...   ...     ...    ...    ...\n",
      "1996  D:\\PP-Laba-4\\dataset_1\\dog\\0996.jpg  dog     1    2341   3000      3\n",
      "1997  D:\\PP-Laba-4\\dataset_1\\dog\\0997.jpg  dog     1     768   1024      3\n",
      "1998  D:\\PP-Laba-4\\dataset_1\\dog\\0998.jpg  dog     1    1600   2560      3\n",
      "1999  D:\\PP-Laba-4\\dataset_1\\dog\\0999.jpg  dog     1    1280   1920      3\n",
      "2000  D:\\PP-Laba-4\\dataset_1\\dog\\1000.jpg  dog     1    1200   1920      3\n",
      "\n",
      "[2001 rows x 6 columns]\n"
     ]
    }
   ],
   "source": [
    "depth_i: List[int] = []\n",
    "\n",
    "for i in range(df[\"abs_path\"].size):\n",
    "    img = cv2.imread(df[\"abs_path\"].iloc[i])\n",
    "    if img is not None:\n",
    "      depth_i.append(img.shape[2])\n",
    "    else:\n",
    "      print(df[\"abs_path\"].iloc[i])\n",
    "\n",
    "df[\"depth\"] = depth_i\n",
    "print(df)"
   ]
  },
  {
   "cell_type": "markdown",
   "metadata": {},
   "source": [
    "Статистическая информация о колонках \"mark\", \"height\", \"width\" и \"depth\". Задание 5."
   ]
  },
  {
   "cell_type": "code",
   "execution_count": 42,
   "metadata": {},
   "outputs": [
    {
     "name": "stdout",
     "output_type": "stream",
     "text": [
      "count    2001.000000\n",
      "mean        0.500250\n",
      "std         0.500125\n",
      "min         0.000000\n",
      "25%         0.000000\n",
      "50%         1.000000\n",
      "75%         1.000000\n",
      "max         1.000000\n",
      "Name: mark, dtype: float64\n"
     ]
    }
   ],
   "source": [
    "mark_stats = df['mark'].describe() \n",
    "print(mark_stats)"
   ]
  },
  {
   "cell_type": "code",
   "execution_count": 43,
   "metadata": {},
   "outputs": [
    {
     "name": "stdout",
     "output_type": "stream",
     "text": [
      "count    2001.000000\n",
      "mean     1329.026487\n",
      "std       460.837640\n",
      "min       270.000000\n",
      "25%      1003.000000\n",
      "50%      1200.000000\n",
      "75%      1600.000000\n",
      "max      7042.000000\n",
      "Name: height, dtype: float64\n"
     ]
    }
   ],
   "source": [
    "height_stats = df['height'].describe() \n",
    "print(height_stats)"
   ]
  },
  {
   "cell_type": "code",
   "execution_count": 44,
   "metadata": {},
   "outputs": [
    {
     "name": "stdout",
     "output_type": "stream",
     "text": [
      "count    2001.000000\n",
      "mean     1917.779110\n",
      "std       677.628948\n",
      "min       427.000000\n",
      "25%      1400.000000\n",
      "50%      1920.000000\n",
      "75%      2560.000000\n",
      "max      5284.000000\n",
      "Name: width, dtype: float64\n"
     ]
    }
   ],
   "source": [
    "width_stats = df['width'].describe() \n",
    "print(width_stats)"
   ]
  },
  {
   "cell_type": "code",
   "execution_count": 45,
   "metadata": {},
   "outputs": [
    {
     "name": "stdout",
     "output_type": "stream",
     "text": [
      "count    2001.0\n",
      "mean        3.0\n",
      "std         0.0\n",
      "min         3.0\n",
      "25%         3.0\n",
      "50%         3.0\n",
      "75%         3.0\n",
      "max         3.0\n",
      "Name: depth, dtype: float64\n"
     ]
    }
   ],
   "source": [
    "depth_stats = df['depth'].describe() \n",
    "print(depth_stats)"
   ]
  }
 ],
 "metadata": {
  "kernelspec": {
   "display_name": "base",
   "language": "python",
   "name": "python3"
  },
  "language_info": {
   "codemirror_mode": {
    "name": "ipython",
    "version": 3
   },
   "file_extension": ".py",
   "mimetype": "text/x-python",
   "name": "python",
   "nbconvert_exporter": "python",
   "pygments_lexer": "ipython3",
   "version": "3.11.4"
  }
 },
 "nbformat": 4,
 "nbformat_minor": 2
}
