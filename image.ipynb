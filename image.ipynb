{
 "cells": [
  {
   "cell_type": "markdown",
   "metadata": {},
   "source": [
    "Импортируем все необходимое"
   ]
  },
  {
   "cell_type": "code",
   "execution_count": 1,
   "metadata": {},
   "outputs": [],
   "source": [
    "import cv2\n",
    "import random\n",
    "import pandas as pd\n",
    "import matplotlib.pyplot as plt\n",
    "\n",
    "from typing import List"
   ]
  },
  {
   "cell_type": "markdown",
   "metadata": {},
   "source": [
    "Создаем DataFrame с двумя колонками. Названия колонок \"abs_path\" и \"name\". Задание 1 и 2."
   ]
  },
  {
   "cell_type": "code",
   "execution_count": 2,
   "metadata": {},
   "outputs": [
    {
     "name": "stdout",
     "output_type": "stream",
     "text": [
      "                                 abs_path name\n",
      "0     D:\\PP-Laba-4\\dataset_1\\cat\\0000.jpg  cat\n",
      "1     D:\\PP-Laba-4\\dataset_1\\cat\\0001.jpg  cat\n",
      "2     D:\\PP-Laba-4\\dataset_1\\cat\\0002.jpg  cat\n",
      "3     D:\\PP-Laba-4\\dataset_1\\cat\\0003.jpg  cat\n",
      "4     D:\\PP-Laba-4\\dataset_1\\cat\\0004.jpg  cat\n",
      "...                                   ...  ...\n",
      "1996  D:\\PP-Laba-4\\dataset_1\\dog\\0996.jpg  dog\n",
      "1997  D:\\PP-Laba-4\\dataset_1\\dog\\0997.jpg  dog\n",
      "1998  D:\\PP-Laba-4\\dataset_1\\dog\\0998.jpg  dog\n",
      "1999  D:\\PP-Laba-4\\dataset_1\\dog\\0999.jpg  dog\n",
      "2000  D:\\PP-Laba-4\\dataset_1\\dog\\1000.jpg  dog\n",
      "\n",
      "[2001 rows x 2 columns]\n"
     ]
    }
   ],
   "source": [
    "df = pd.read_csv('paths_1.csv', delimiter=',', usecols = (0, 2), names = ('abs_path', 'name'))\n",
    "print(df)"
   ]
  },
  {
   "cell_type": "markdown",
   "metadata": {},
   "source": [
    "Добавление столбца с метками \"0\" для класса \"cat\" и \"1\" для класса \"dog\". Задание 3"
   ]
  },
  {
   "cell_type": "code",
   "execution_count": 3,
   "metadata": {},
   "outputs": [
    {
     "name": "stdout",
     "output_type": "stream",
     "text": [
      "                                 abs_path name  mark\n",
      "0     D:\\PP-Laba-4\\dataset_1\\cat\\0000.jpg  cat     0\n",
      "1     D:\\PP-Laba-4\\dataset_1\\cat\\0001.jpg  cat     0\n",
      "2     D:\\PP-Laba-4\\dataset_1\\cat\\0002.jpg  cat     0\n",
      "3     D:\\PP-Laba-4\\dataset_1\\cat\\0003.jpg  cat     0\n",
      "4     D:\\PP-Laba-4\\dataset_1\\cat\\0004.jpg  cat     0\n",
      "...                                   ...  ...   ...\n",
      "1996  D:\\PP-Laba-4\\dataset_1\\dog\\0996.jpg  dog     1\n",
      "1997  D:\\PP-Laba-4\\dataset_1\\dog\\0997.jpg  dog     1\n",
      "1998  D:\\PP-Laba-4\\dataset_1\\dog\\0998.jpg  dog     1\n",
      "1999  D:\\PP-Laba-4\\dataset_1\\dog\\0999.jpg  dog     1\n",
      "2000  D:\\PP-Laba-4\\dataset_1\\dog\\1000.jpg  dog     1\n",
      "\n",
      "[2001 rows x 3 columns]\n"
     ]
    }
   ],
   "source": [
    "df[\"mark\"] = 0\n",
    "df.loc[df[\"name\"] == \"dog\", \"mark\"] = 1\n",
    "print(df)"
   ]
  },
  {
   "cell_type": "markdown",
   "metadata": {},
   "source": [
    "Добавление трех столбцов \"height\", \"width\" и \"depth\". Задание 4."
   ]
  },
  {
   "cell_type": "code",
   "execution_count": 4,
   "metadata": {},
   "outputs": [
    {
     "name": "stdout",
     "output_type": "stream",
     "text": [
      "                                 abs_path name  mark  height\n",
      "0     D:\\PP-Laba-4\\dataset_1\\cat\\0000.jpg  cat     0    1440\n",
      "1     D:\\PP-Laba-4\\dataset_1\\cat\\0001.jpg  cat     0    1200\n",
      "2     D:\\PP-Laba-4\\dataset_1\\cat\\0002.jpg  cat     0    1600\n",
      "3     D:\\PP-Laba-4\\dataset_1\\cat\\0003.jpg  cat     0     634\n",
      "4     D:\\PP-Laba-4\\dataset_1\\cat\\0004.jpg  cat     0    1368\n",
      "...                                   ...  ...   ...     ...\n",
      "1996  D:\\PP-Laba-4\\dataset_1\\dog\\0996.jpg  dog     1    2341\n",
      "1997  D:\\PP-Laba-4\\dataset_1\\dog\\0997.jpg  dog     1     768\n",
      "1998  D:\\PP-Laba-4\\dataset_1\\dog\\0998.jpg  dog     1    1600\n",
      "1999  D:\\PP-Laba-4\\dataset_1\\dog\\0999.jpg  dog     1    1280\n",
      "2000  D:\\PP-Laba-4\\dataset_1\\dog\\1000.jpg  dog     1    1200\n",
      "\n",
      "[2001 rows x 4 columns]\n"
     ]
    }
   ],
   "source": [
    "height_i: List[int] = []\n",
    "\n",
    "for i in range(df[\"abs_path\"].size):\n",
    "    img = cv2.imread(df[\"abs_path\"].iloc[i])\n",
    "    if img is not None:\n",
    "      height_i.append(img.shape[0])\n",
    "    else:\n",
    "      print(df[\"abs_path\"].iloc[i])\n",
    "\n",
    "df[\"height\"] = height_i\n",
    "print(df)"
   ]
  },
  {
   "cell_type": "code",
   "execution_count": 5,
   "metadata": {},
   "outputs": [
    {
     "name": "stdout",
     "output_type": "stream",
     "text": [
      "                                 abs_path name  mark  height  width\n",
      "0     D:\\PP-Laba-4\\dataset_1\\cat\\0000.jpg  cat     0    1440   2160\n",
      "1     D:\\PP-Laba-4\\dataset_1\\cat\\0001.jpg  cat     0    1200   1600\n",
      "2     D:\\PP-Laba-4\\dataset_1\\cat\\0002.jpg  cat     0    1600   2560\n",
      "3     D:\\PP-Laba-4\\dataset_1\\cat\\0003.jpg  cat     0     634    880\n",
      "4     D:\\PP-Laba-4\\dataset_1\\cat\\0004.jpg  cat     0    1368   2048\n",
      "...                                   ...  ...   ...     ...    ...\n",
      "1996  D:\\PP-Laba-4\\dataset_1\\dog\\0996.jpg  dog     1    2341   3000\n",
      "1997  D:\\PP-Laba-4\\dataset_1\\dog\\0997.jpg  dog     1     768   1024\n",
      "1998  D:\\PP-Laba-4\\dataset_1\\dog\\0998.jpg  dog     1    1600   2560\n",
      "1999  D:\\PP-Laba-4\\dataset_1\\dog\\0999.jpg  dog     1    1280   1920\n",
      "2000  D:\\PP-Laba-4\\dataset_1\\dog\\1000.jpg  dog     1    1200   1920\n",
      "\n",
      "[2001 rows x 5 columns]\n"
     ]
    }
   ],
   "source": [
    "width_i: List[int] = []\n",
    "\n",
    "for i in range(df[\"abs_path\"].size):\n",
    "    img = cv2.imread(df[\"abs_path\"].iloc[i])\n",
    "    if img is not None:\n",
    "      width_i.append(img.shape[1])\n",
    "    else:\n",
    "      print(df[\"abs_path\"].iloc[i])\n",
    "\n",
    "df[\"width\"] = width_i\n",
    "print(df)"
   ]
  },
  {
   "cell_type": "code",
   "execution_count": 6,
   "metadata": {},
   "outputs": [
    {
     "name": "stdout",
     "output_type": "stream",
     "text": [
      "                                 abs_path name  mark  height  width  depth\n",
      "0     D:\\PP-Laba-4\\dataset_1\\cat\\0000.jpg  cat     0    1440   2160      3\n",
      "1     D:\\PP-Laba-4\\dataset_1\\cat\\0001.jpg  cat     0    1200   1600      3\n",
      "2     D:\\PP-Laba-4\\dataset_1\\cat\\0002.jpg  cat     0    1600   2560      3\n",
      "3     D:\\PP-Laba-4\\dataset_1\\cat\\0003.jpg  cat     0     634    880      3\n",
      "4     D:\\PP-Laba-4\\dataset_1\\cat\\0004.jpg  cat     0    1368   2048      3\n",
      "...                                   ...  ...   ...     ...    ...    ...\n",
      "1996  D:\\PP-Laba-4\\dataset_1\\dog\\0996.jpg  dog     1    2341   3000      3\n",
      "1997  D:\\PP-Laba-4\\dataset_1\\dog\\0997.jpg  dog     1     768   1024      3\n",
      "1998  D:\\PP-Laba-4\\dataset_1\\dog\\0998.jpg  dog     1    1600   2560      3\n",
      "1999  D:\\PP-Laba-4\\dataset_1\\dog\\0999.jpg  dog     1    1280   1920      3\n",
      "2000  D:\\PP-Laba-4\\dataset_1\\dog\\1000.jpg  dog     1    1200   1920      3\n",
      "\n",
      "[2001 rows x 6 columns]\n"
     ]
    }
   ],
   "source": [
    "depth_i: List[int] = []\n",
    "\n",
    "for i in range(df[\"abs_path\"].size):\n",
    "    img = cv2.imread(df[\"abs_path\"].iloc[i])\n",
    "    if img is not None:\n",
    "      depth_i.append(img.shape[2])\n",
    "    else:\n",
    "      print(df[\"abs_path\"].iloc[i])\n",
    "\n",
    "df[\"depth\"] = depth_i\n",
    "print(df)"
   ]
  },
  {
   "cell_type": "markdown",
   "metadata": {},
   "source": [
    "Статистическая информация о колонках \"mark\", \"height\", \"width\" и \"depth\". Задание 5."
   ]
  },
  {
   "cell_type": "code",
   "execution_count": 7,
   "metadata": {},
   "outputs": [
    {
     "name": "stdout",
     "output_type": "stream",
     "text": [
      "count    2001.000000\n",
      "mean        0.500250\n",
      "std         0.500125\n",
      "min         0.000000\n",
      "25%         0.000000\n",
      "50%         1.000000\n",
      "75%         1.000000\n",
      "max         1.000000\n",
      "Name: mark, dtype: float64\n"
     ]
    }
   ],
   "source": [
    "mark_stats = df['mark'].describe() \n",
    "print(mark_stats)"
   ]
  },
  {
   "cell_type": "code",
   "execution_count": 10,
   "metadata": {},
   "outputs": [
    {
     "name": "stdout",
     "output_type": "stream",
     "text": [
      "count    2001.000000\n",
      "mean     1329.026487\n",
      "std       460.837640\n",
      "min       270.000000\n",
      "25%      1003.000000\n",
      "50%      1200.000000\n",
      "75%      1600.000000\n",
      "max      7042.000000\n",
      "Name: height, dtype: float64\n"
     ]
    }
   ],
   "source": [
    "height_stats = df['height'].describe() \n",
    "print(height_stats)"
   ]
  },
  {
   "cell_type": "code",
   "execution_count": 11,
   "metadata": {},
   "outputs": [
    {
     "name": "stdout",
     "output_type": "stream",
     "text": [
      "count    2001.000000\n",
      "mean     1917.779110\n",
      "std       677.628948\n",
      "min       427.000000\n",
      "25%      1400.000000\n",
      "50%      1920.000000\n",
      "75%      2560.000000\n",
      "max      5284.000000\n",
      "Name: width, dtype: float64\n"
     ]
    }
   ],
   "source": [
    "width_stats = df['width'].describe() \n",
    "print(width_stats)"
   ]
  },
  {
   "cell_type": "code",
   "execution_count": 12,
   "metadata": {},
   "outputs": [
    {
     "name": "stdout",
     "output_type": "stream",
     "text": [
      "count    2001.0\n",
      "mean        3.0\n",
      "std         0.0\n",
      "min         3.0\n",
      "25%         3.0\n",
      "50%         3.0\n",
      "75%         3.0\n",
      "max         3.0\n",
      "Name: depth, dtype: float64\n"
     ]
    }
   ],
   "source": [
    "depth_stats = df['depth'].describe() \n",
    "print(depth_stats)"
   ]
  },
  {
   "cell_type": "code",
   "execution_count": 9,
   "metadata": {},
   "outputs": [
    {
     "name": "stdout",
     "output_type": "stream",
     "text": [
      "         mark       height        width   depth\n",
      "count  1000.0  1000.000000  1000.000000  1000.0\n",
      "mean      0.0  1320.889000  1912.954000     3.0\n",
      "std       0.0   467.836428   666.557363     0.0\n",
      "min       0.0   270.000000   480.000000     3.0\n",
      "25%       0.0  1024.000000  1440.000000     3.0\n",
      "50%       0.0  1200.000000  1920.000000     3.0\n",
      "75%       0.0  1600.000000  2431.750000     3.0\n",
      "max       0.0  7042.000000  5284.000000     3.0\n"
     ]
    }
   ],
   "source": [
    "data=df[df[\"mark\"]==0].describe()\n",
    "print(data)"
   ]
  },
  {
   "cell_type": "code",
   "execution_count": 10,
   "metadata": {},
   "outputs": [
    {
     "name": "stdout",
     "output_type": "stream",
     "text": [
      "         mark       height        width   depth\n",
      "count  1001.0  1001.000000  1001.000000  1001.0\n",
      "mean      1.0  1337.155844  1922.599401     3.0\n",
      "std       0.0   453.826220   688.811311     0.0\n",
      "min       1.0   320.000000   427.000000     3.0\n",
      "25%       1.0  1000.000000  1368.000000     3.0\n",
      "50%       1.0  1200.000000  1920.000000     3.0\n",
      "75%       1.0  1600.000000  2560.000000     3.0\n",
      "max       1.0  3000.000000  3389.000000     3.0\n"
     ]
    }
   ],
   "source": [
    "data=df[df[\"mark\"]==1].describe()\n",
    "print(data)"
   ]
  },
  {
   "cell_type": "markdown",
   "metadata": {},
   "source": [
    "Задание 6."
   ]
  },
  {
   "cell_type": "code",
   "execution_count": 13,
   "metadata": {},
   "outputs": [
    {
     "name": "stdout",
     "output_type": "stream",
     "text": [
      "                                 abs_path name  mark  height  width  depth\n",
      "1000  D:\\PP-Laba-4\\dataset_1\\dog\\0000.jpg  dog     1    1200   1600      3\n",
      "1001  D:\\PP-Laba-4\\dataset_1\\dog\\0001.jpg  dog     1    1280   1920      3\n",
      "1002  D:\\PP-Laba-4\\dataset_1\\dog\\0002.jpg  dog     1    1200   1920      3\n",
      "1003  D:\\PP-Laba-4\\dataset_1\\dog\\0003.jpg  dog     1     854    960      3\n",
      "1004  D:\\PP-Laba-4\\dataset_1\\dog\\0004.jpg  dog     1    1600   2560      3\n",
      "...                                   ...  ...   ...     ...    ...    ...\n",
      "1996  D:\\PP-Laba-4\\dataset_1\\dog\\0996.jpg  dog     1    2341   3000      3\n",
      "1997  D:\\PP-Laba-4\\dataset_1\\dog\\0997.jpg  dog     1     768   1024      3\n",
      "1998  D:\\PP-Laba-4\\dataset_1\\dog\\0998.jpg  dog     1    1600   2560      3\n",
      "1999  D:\\PP-Laba-4\\dataset_1\\dog\\0999.jpg  dog     1    1280   1920      3\n",
      "2000  D:\\PP-Laba-4\\dataset_1\\dog\\1000.jpg  dog     1    1200   1920      3\n",
      "\n",
      "[1001 rows x 6 columns]\n"
     ]
    }
   ],
   "source": [
    "def filter_dataframe(df: pd.DataFrame, label: int) -> pd.DataFrame:\n",
    "    \"\"\"\n",
    "    Функция на вход принимает DataFrame и метку класса, а возвращает отфильтрованный по метке DataFrame\n",
    "    \"\"\"\n",
    "    new: pd.DataFrame = df[df.mark == label]\n",
    "    return new\n",
    "\n",
    "print(filter_dataframe(df, 1))"
   ]
  },
  {
   "cell_type": "markdown",
   "metadata": {},
   "source": [
    "Задание 7"
   ]
  },
  {
   "cell_type": "code",
   "execution_count": 16,
   "metadata": {},
   "outputs": [
    {
     "name": "stdout",
     "output_type": "stream",
     "text": [
      "                                abs_path name  mark  height  width  depth\n",
      "3    D:\\PP-Laba-4\\dataset_1\\cat\\0003.jpg  cat     0     634    880      3\n",
      "45   D:\\PP-Laba-4\\dataset_1\\cat\\0045.jpg  cat     0     585    880      3\n",
      "46   D:\\PP-Laba-4\\dataset_1\\cat\\0046.jpg  cat     0     534    807      3\n",
      "50   D:\\PP-Laba-4\\dataset_1\\cat\\0050.jpg  cat     0     801    900      3\n",
      "54   D:\\PP-Laba-4\\dataset_1\\cat\\0054.jpg  cat     0     750   1000      3\n",
      "..                                   ...  ...   ...     ...    ...    ...\n",
      "976  D:\\PP-Laba-4\\dataset_1\\cat\\0976.jpg  cat     0     736    736      3\n",
      "977  D:\\PP-Laba-4\\dataset_1\\cat\\0977.jpg  cat     0     736    736      3\n",
      "995  D:\\PP-Laba-4\\dataset_1\\cat\\0995.jpg  cat     0     781   1000      3\n",
      "996  D:\\PP-Laba-4\\dataset_1\\cat\\0996.jpg  cat     0     736    736      3\n",
      "997  D:\\PP-Laba-4\\dataset_1\\cat\\0997.jpg  cat     0     736    736      3\n",
      "\n",
      "[67 rows x 6 columns]\n"
     ]
    }
   ],
   "source": [
    "def specified_filter(label: int, max_width: int, max_height: int, df: pd.DataFrame) -> pd.DataFrame:\n",
    "    \"\"\"\n",
    "    Функция принимает метку класса, max_height и max_width, а возвращает отфильтрованный по заданным параметрам DataFrame\n",
    "    \"\"\"\n",
    "    new = df[(df.mark == label) & (df.width <= max_width) & (df.height <= max_height)]\n",
    "    return new\n",
    "\n",
    "print(specified_filter(0, 1000, 1000, df))"
   ]
  },
  {
   "cell_type": "markdown",
   "metadata": {},
   "source": [
    "Группировка DataFrame по метке класса с вычислением максимального, минимального и среднего значения по количеству пикселей. Задание 8"
   ]
  },
  {
   "cell_type": "code",
   "execution_count": 18,
   "metadata": {},
   "outputs": [
    {
     "name": "stdout",
     "output_type": "stream",
     "text": [
      "       count_pixel                  \n",
      "              mean     min       max\n",
      "mark                                \n",
      "0     2.787774e+06  129600  33097400\n",
      "1     2.846418e+06  136640   8940100\n"
     ]
    }
   ],
   "source": [
    "df[\"count_pixel\"] = df.height * df.width\n",
    "result:pd.DataFrame = df.groupby(\"mark\").agg({\"count_pixel\": ['mean', 'min', 'max']}) \n",
    "print(result)"
   ]
  },
  {
   "cell_type": "markdown",
   "metadata": {},
   "source": [
    "Задание 9."
   ]
  },
  {
   "cell_type": "code",
   "execution_count": 19,
   "metadata": {},
   "outputs": [],
   "source": [
    "def make_hist(df: pd.DataFrame, label: int) -> pd.DataFrame:\n",
    "    \"\"\"\n",
    "    На вход функция принимает DataFrame и метку класса, на выходе -массивы (каждый массив соответствует значениям гистограммы по каждому каналу).\n",
    "    \"\"\"\n",
    "    new_df= pd.DataFrame = filter_dataframe(df, label)\n",
    "    image_path= new_df[\"abs_path\"].iloc[random.randint(0, 1000)]\n",
    "    image = cv2.imread(image_path)\n",
    "    color = []\n",
    "    for i in range(0, 3):\n",
    "        histr = cv2.calcHist([image], [i], None, [256], [0, 256])\n",
    "        color.append(histr)\n",
    "    return color, image"
   ]
  },
  {
   "cell_type": "markdown",
   "metadata": {},
   "source": [
    "Задание 10."
   ]
  },
  {
   "cell_type": "code",
   "execution_count": 21,
   "metadata": {},
   "outputs": [
    {
     "data": {
      "image/png": "[encoded data removed]",
      "text/plain": [
       "<Figure size 640x480 with 2 Axes>"
      ]
     },
     "metadata": {},
     "output_type": "display_data"
    }
   ],
   "source": [
    "def draw_hist(df: pd.DataFrame, mark: int) -> None:\n",
    "    \"\"\"\n",
    "    Функция отрисовывает гистограммы, которые возвращаются из функции пункта 9.\n",
    "    \"\"\"\n",
    "    histr, image = make_hist(df, mark)\n",
    "\n",
    "    plt.subplots_adjust(top=0.8, bottom=0.2, left=0.2, right=0.8, wspace=0.4, hspace=0.4)\n",
    "\n",
    "    plt.subplot(2, 1, 1)\n",
    "    plt.imshow(image)\n",
    "\n",
    "    plt.subplot(2, 1, 2)\n",
    "    plt.plot(histr[0], color=\"b\")\n",
    "    plt.plot(histr[1], color=\"g\")\n",
    "    plt.plot(histr[2], color=\"r\")\n",
    "    plt.title(\"Blue, Green, Red сhannels histogram\")\n",
    "    plt.xlabel(\"Intensity\")\n",
    "    plt.ylabel(\"Pixels\")\n",
    "    plt.show()\n",
    "\n",
    "\n",
    "draw_hist(df, 1)\n"
   ]
  }
 ],
 "metadata": {
  "kernelspec": {
   "display_name": "base",
   "language": "python",
   "name": "python3"
  },
  "language_info": {
   "codemirror_mode": {
    "name": "ipython",
    "version": 3
   },
   "file_extension": ".py",
   "mimetype": "text/x-python",
   "name": "python",
   "nbconvert_exporter": "python",
   "pygments_lexer": "ipython3",
   "version": "3.11.4"
  }
 },
 "nbformat": 4,
 "nbformat_minor": 2
}
